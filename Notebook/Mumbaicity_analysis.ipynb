{
 "cells": [
  {
   "cell_type": "markdown",
   "metadata": {},
   "source": [
    "#### Importing necessary libraries"
   ]
  },
  {
   "cell_type": "code",
   "execution_count": 1,
   "metadata": {},
   "outputs": [
    {
     "name": "stdout",
     "output_type": "stream",
     "text": [
      "Libraries imported.\n"
     ]
    }
   ],
   "source": [
    "import numpy as np # library to handle data in a vectorized manner\n",
    "\n",
    "import pandas as pd # library for data analsysis\n",
    "pd.set_option('display.max_columns', None)\n",
    "pd.set_option('display.max_rows', None)\n",
    "\n",
    "import json # library to handle JSON files\n",
    "\n",
    " \n",
    "from geopy.geocoders import Nominatim # convert an address into latitude and longitude values\n",
    "\n",
    "import requests # library to handle requests\n",
    "from pandas.io.json import json_normalize # tranform JSON file into a pandas dataframe\n",
    "\n",
    "# Matplotlib and associated plotting modules\n",
    "import matplotlib.cm as cm\n",
    "import matplotlib.colors as colors\n",
    "\n",
    "# import k-means from clustering stage\n",
    "from sklearn.cluster import KMeans\n",
    "\n",
    "import folium # map rendering library\n",
    "\n",
    "print('Libraries imported.')\n",
    "\n",
    "import seaborn as sns\n",
    "import matplotlib.pyplot as plt\n",
    "%matplotlib inline"
   ]
  },
  {
   "cell_type": "markdown",
   "metadata": {},
   "source": [
    "#### Importing the basic cleaned data\n",
    "Property prices of Mumbai City source:https://www.99acres.com/property-rates-and-price-trends-in-mumbai"
   ]
  },
  {
   "cell_type": "code",
   "execution_count": 2,
   "metadata": {},
   "outputs": [
    {
     "data": {
      "text/html": [
       "<div>\n",
       "<style scoped>\n",
       "    .dataframe tbody tr th:only-of-type {\n",
       "        vertical-align: middle;\n",
       "    }\n",
       "\n",
       "    .dataframe tbody tr th {\n",
       "        vertical-align: top;\n",
       "    }\n",
       "\n",
       "    .dataframe thead th {\n",
       "        text-align: right;\n",
       "    }\n",
       "</style>\n",
       "<table border=\"1\" class=\"dataframe\">\n",
       "  <thead>\n",
       "    <tr style=\"text-align: right;\">\n",
       "      <th></th>\n",
       "      <th>Locality Name</th>\n",
       "      <th>buy_rate_avg</th>\n",
       "      <th>Rent_1B_avg</th>\n",
       "      <th>Rent_2B_avg</th>\n",
       "      <th>Rent_3B_avg</th>\n",
       "    </tr>\n",
       "  </thead>\n",
       "  <tbody>\n",
       "    <tr>\n",
       "      <th>0</th>\n",
       "      <td>4 Bunglows</td>\n",
       "      <td>19826.5</td>\n",
       "      <td>27625.0</td>\n",
       "      <td>45900.0</td>\n",
       "      <td>56767.5</td>\n",
       "    </tr>\n",
       "    <tr>\n",
       "      <th>1</th>\n",
       "      <td>Aarey Milk Colony</td>\n",
       "      <td>7543.5</td>\n",
       "      <td>18417.5</td>\n",
       "      <td>22277.0</td>\n",
       "      <td>26614.5</td>\n",
       "    </tr>\n",
       "    <tr>\n",
       "      <th>6</th>\n",
       "      <td>Airoli</td>\n",
       "      <td>10561.5</td>\n",
       "      <td>14259.0</td>\n",
       "      <td>22567.5</td>\n",
       "      <td>32742.0</td>\n",
       "    </tr>\n",
       "    <tr>\n",
       "      <th>10</th>\n",
       "      <td>Ambedkar Nagar</td>\n",
       "      <td>16235.0</td>\n",
       "      <td>25239.5</td>\n",
       "      <td>38675.0</td>\n",
       "      <td>56104.0</td>\n",
       "    </tr>\n",
       "    <tr>\n",
       "      <th>21</th>\n",
       "      <td>Andheri (East)</td>\n",
       "      <td>16809.0</td>\n",
       "      <td>25478.5</td>\n",
       "      <td>39634.5</td>\n",
       "      <td>54910.0</td>\n",
       "    </tr>\n",
       "    <tr>\n",
       "      <th>22</th>\n",
       "      <td>Andheri (West)</td>\n",
       "      <td>21058.5</td>\n",
       "      <td>25712.5</td>\n",
       "      <td>41536.0</td>\n",
       "      <td>66139.0</td>\n",
       "    </tr>\n",
       "    <tr>\n",
       "      <th>26</th>\n",
       "      <td>Asha Nagar</td>\n",
       "      <td>16171.5</td>\n",
       "      <td>18025.5</td>\n",
       "      <td>24593.5</td>\n",
       "      <td>32961.5</td>\n",
       "    </tr>\n",
       "    <tr>\n",
       "      <th>29</th>\n",
       "      <td>Azad Nagar</td>\n",
       "      <td>17871.5</td>\n",
       "      <td>24420.0</td>\n",
       "      <td>40350.0</td>\n",
       "      <td>58378.0</td>\n",
       "    </tr>\n",
       "    <tr>\n",
       "      <th>36</th>\n",
       "      <td>Bandra (West)</td>\n",
       "      <td>37400.0</td>\n",
       "      <td>49608.0</td>\n",
       "      <td>79957.5</td>\n",
       "      <td>151512.5</td>\n",
       "    </tr>\n",
       "    <tr>\n",
       "      <th>38</th>\n",
       "      <td>Belapur</td>\n",
       "      <td>9860.0</td>\n",
       "      <td>11465.0</td>\n",
       "      <td>24952.0</td>\n",
       "      <td>43741.0</td>\n",
       "    </tr>\n",
       "  </tbody>\n",
       "</table>\n",
       "</div>"
      ],
      "text/plain": [
       "        Locality Name  buy_rate_avg  Rent_1B_avg  Rent_2B_avg  Rent_3B_avg\n",
       "0          4 Bunglows       19826.5      27625.0      45900.0      56767.5\n",
       "1   Aarey Milk Colony        7543.5      18417.5      22277.0      26614.5\n",
       "6              Airoli       10561.5      14259.0      22567.5      32742.0\n",
       "10     Ambedkar Nagar       16235.0      25239.5      38675.0      56104.0\n",
       "21     Andheri (East)       16809.0      25478.5      39634.5      54910.0\n",
       "22     Andheri (West)       21058.5      25712.5      41536.0      66139.0\n",
       "26         Asha Nagar       16171.5      18025.5      24593.5      32961.5\n",
       "29         Azad Nagar       17871.5      24420.0      40350.0      58378.0\n",
       "36      Bandra (West)       37400.0      49608.0      79957.5     151512.5\n",
       "38            Belapur        9860.0      11465.0      24952.0      43741.0"
      ]
     },
     "execution_count": 2,
     "metadata": {},
     "output_type": "execute_result"
    }
   ],
   "source": [
    "pp_1=pd.read_csv(\"Data/mumbai_property_price.csv\")\n",
    "pp_1[['Locality Name','buy_rate_avg','Rent_1B_avg','Rent_2B_avg','Rent_3B_avg']].dropna().head(10)"
   ]
  },
  {
   "cell_type": "markdown",
   "metadata": {},
   "source": [
    "### Assigning Pincodes to each locality"
   ]
  },
  {
   "cell_type": "code",
   "execution_count": 24,
   "metadata": {},
   "outputs": [
    {
     "data": {
      "text/plain": [
       "'19.1196976'"
      ]
     },
     "execution_count": 24,
     "metadata": {},
     "output_type": "execute_result"
    }
   ],
   "source": [
    "url=\"https://nominatim.openstreetmap.org/search/Andheri%20Mumbai?format=json&addressdetails=1&limit=1&polygon_svg=1\"\n",
    "result=requests.get(url).json()\n",
    "result[0]['lat']"
   ]
  },
  {
   "cell_type": "code",
   "execution_count": 25,
   "metadata": {},
   "outputs": [
    {
     "data": {
      "text/html": [
       "<div>\n",
       "<style scoped>\n",
       "    .dataframe tbody tr th:only-of-type {\n",
       "        vertical-align: middle;\n",
       "    }\n",
       "\n",
       "    .dataframe tbody tr th {\n",
       "        vertical-align: top;\n",
       "    }\n",
       "\n",
       "    .dataframe thead th {\n",
       "        text-align: right;\n",
       "    }\n",
       "</style>\n",
       "<table border=\"1\" class=\"dataframe\">\n",
       "  <thead>\n",
       "    <tr style=\"text-align: right;\">\n",
       "      <th></th>\n",
       "      <th>Locality Name</th>\n",
       "      <th>buy_rate</th>\n",
       "      <th>buy_rate_trim</th>\n",
       "      <th>buy_rate_lower</th>\n",
       "      <th>buy_rate_higher</th>\n",
       "      <th>buy_rate_avg</th>\n",
       "      <th>Buy Rates Q/Q</th>\n",
       "      <th>Rent_1B</th>\n",
       "      <th>Rent_1B_trim</th>\n",
       "      <th>Rent_1B_Lower</th>\n",
       "      <th>Rent_1B_Upper</th>\n",
       "      <th>Rent_1B_avg</th>\n",
       "      <th>Rent_1B_persqf</th>\n",
       "      <th>Rent_2B</th>\n",
       "      <th>Rent_2B_trim</th>\n",
       "      <th>Rent_2B_Lower</th>\n",
       "      <th>Rent_2B_Upper</th>\n",
       "      <th>Rent_2B_avg</th>\n",
       "      <th>Rent_2B_persqf</th>\n",
       "      <th>Rent_3B</th>\n",
       "      <th>Rent_3B_trim</th>\n",
       "      <th>Rent_3B_Lower</th>\n",
       "      <th>Rent_3B_Upper</th>\n",
       "      <th>Rent_3B_avg</th>\n",
       "      <th>Rent_3B_persqf</th>\n",
       "      <th>Longitude</th>\n",
       "    </tr>\n",
       "  </thead>\n",
       "  <tbody>\n",
       "    <tr>\n",
       "      <th>0</th>\n",
       "      <td>4 Bunglows</td>\n",
       "      <td>Rs.18,828 - 20,825/sq. ft.</td>\n",
       "      <td>18,828 - 20,825</td>\n",
       "      <td>18828.0</td>\n",
       "      <td>20825.0</td>\n",
       "      <td>19826.5</td>\n",
       "      <td>-1.48%</td>\n",
       "      <td>Rs.24,225 - 31,025</td>\n",
       "      <td>24,225 - 31,025</td>\n",
       "      <td>24225.0</td>\n",
       "      <td>31025.0</td>\n",
       "      <td>27625.0</td>\n",
       "      <td>139%</td>\n",
       "      <td>Rs.43,350 - 48,450</td>\n",
       "      <td>43,350 - 48,450</td>\n",
       "      <td>43350.0</td>\n",
       "      <td>48450.0</td>\n",
       "      <td>45900.0</td>\n",
       "      <td>232%</td>\n",
       "      <td>Rs.53,780 - 59,755</td>\n",
       "      <td>53,780 - 59,755</td>\n",
       "      <td>53780.0</td>\n",
       "      <td>59755.0</td>\n",
       "      <td>56767.5</td>\n",
       "      <td>286%</td>\n",
       "      <td>None</td>\n",
       "    </tr>\n",
       "    <tr>\n",
       "      <th>1</th>\n",
       "      <td>Aarey Milk Colony</td>\n",
       "      <td>Rs.7,225 - 7,862/sq. ft.</td>\n",
       "      <td>7,225 - 7,862</td>\n",
       "      <td>7225.0</td>\n",
       "      <td>7862.0</td>\n",
       "      <td>7543.5</td>\n",
       "      <td>4.71%</td>\n",
       "      <td>Rs.16,371 - 20,464</td>\n",
       "      <td>16,371 - 20,464</td>\n",
       "      <td>16371.0</td>\n",
       "      <td>20464.0</td>\n",
       "      <td>18417.5</td>\n",
       "      <td>244%</td>\n",
       "      <td>Rs.21,216 - 23,338</td>\n",
       "      <td>21,216 - 23,338</td>\n",
       "      <td>21216.0</td>\n",
       "      <td>23338.0</td>\n",
       "      <td>22277.0</td>\n",
       "      <td>295%</td>\n",
       "      <td>Rs.23,899 - 29,330</td>\n",
       "      <td>23,899 - 29,330</td>\n",
       "      <td>23899.0</td>\n",
       "      <td>29330.0</td>\n",
       "      <td>26614.5</td>\n",
       "      <td>353%</td>\n",
       "      <td>None</td>\n",
       "    </tr>\n",
       "    <tr>\n",
       "      <th>2</th>\n",
       "      <td>Abhyudaya Nagar</td>\n",
       "      <td>Rs.26,605 - 28,858/sq. ft.</td>\n",
       "      <td>26,605 - 28,858</td>\n",
       "      <td>26605.0</td>\n",
       "      <td>28858.0</td>\n",
       "      <td>27731.5</td>\n",
       "      <td>NaN</td>\n",
       "      <td>NaN</td>\n",
       "      <td>NaN</td>\n",
       "      <td>NaN</td>\n",
       "      <td>NaN</td>\n",
       "      <td>NaN</td>\n",
       "      <td>NaN</td>\n",
       "      <td>Rs.63,954 - 68,395</td>\n",
       "      <td>63,954 - 68,395</td>\n",
       "      <td>63954.0</td>\n",
       "      <td>68395.0</td>\n",
       "      <td>66174.5</td>\n",
       "      <td>239%</td>\n",
       "      <td>NaN</td>\n",
       "      <td>NaN</td>\n",
       "      <td>NaN</td>\n",
       "      <td>NaN</td>\n",
       "      <td>NaN</td>\n",
       "      <td>NaN</td>\n",
       "      <td>None</td>\n",
       "    </tr>\n",
       "    <tr>\n",
       "      <th>3</th>\n",
       "      <td>Adaigaon</td>\n",
       "      <td>Rs.4,462 - 4,802/sq. ft.</td>\n",
       "      <td>4,462 - 4,802</td>\n",
       "      <td>4462.0</td>\n",
       "      <td>4802.0</td>\n",
       "      <td>4632.0</td>\n",
       "      <td>7.92%</td>\n",
       "      <td>NaN</td>\n",
       "      <td>NaN</td>\n",
       "      <td>NaN</td>\n",
       "      <td>NaN</td>\n",
       "      <td>NaN</td>\n",
       "      <td>NaN</td>\n",
       "      <td>NaN</td>\n",
       "      <td>NaN</td>\n",
       "      <td>NaN</td>\n",
       "      <td>NaN</td>\n",
       "      <td>NaN</td>\n",
       "      <td>NaN</td>\n",
       "      <td>NaN</td>\n",
       "      <td>NaN</td>\n",
       "      <td>NaN</td>\n",
       "      <td>NaN</td>\n",
       "      <td>NaN</td>\n",
       "      <td>NaN</td>\n",
       "      <td>None</td>\n",
       "    </tr>\n",
       "    <tr>\n",
       "      <th>4</th>\n",
       "      <td>Adharwadi</td>\n",
       "      <td>Rs.4,675 - 5,398/sq. ft.</td>\n",
       "      <td>4,675 - 5,398</td>\n",
       "      <td>4675.0</td>\n",
       "      <td>5398.0</td>\n",
       "      <td>5036.5</td>\n",
       "      <td>-7.26%</td>\n",
       "      <td>Rs.5,142 - 6,078</td>\n",
       "      <td>5,142 - 6,078</td>\n",
       "      <td>5142.0</td>\n",
       "      <td>6078.0</td>\n",
       "      <td>5610.0</td>\n",
       "      <td>111%</td>\n",
       "      <td>Rs.7,268 - 8,882</td>\n",
       "      <td>7,268 - 8,882</td>\n",
       "      <td>7268.0</td>\n",
       "      <td>8882.0</td>\n",
       "      <td>8075.0</td>\n",
       "      <td>160%</td>\n",
       "      <td>NaN</td>\n",
       "      <td>NaN</td>\n",
       "      <td>NaN</td>\n",
       "      <td>NaN</td>\n",
       "      <td>NaN</td>\n",
       "      <td>NaN</td>\n",
       "      <td>None</td>\n",
       "    </tr>\n",
       "  </tbody>\n",
       "</table>\n",
       "</div>"
      ],
      "text/plain": [
       "       Locality Name                    buy_rate    buy_rate_trim  \\\n",
       "0         4 Bunglows  Rs.18,828 - 20,825/sq. ft.  18,828 - 20,825   \n",
       "1  Aarey Milk Colony    Rs.7,225 - 7,862/sq. ft.    7,225 - 7,862   \n",
       "2    Abhyudaya Nagar  Rs.26,605 - 28,858/sq. ft.  26,605 - 28,858   \n",
       "3           Adaigaon    Rs.4,462 - 4,802/sq. ft.    4,462 - 4,802   \n",
       "4          Adharwadi    Rs.4,675 - 5,398/sq. ft.    4,675 - 5,398   \n",
       "\n",
       "   buy_rate_lower  buy_rate_higher  buy_rate_avg Buy Rates Q/Q  \\\n",
       "0         18828.0          20825.0       19826.5        -1.48%   \n",
       "1          7225.0           7862.0        7543.5         4.71%   \n",
       "2         26605.0          28858.0       27731.5           NaN   \n",
       "3          4462.0           4802.0        4632.0         7.92%   \n",
       "4          4675.0           5398.0        5036.5        -7.26%   \n",
       "\n",
       "              Rent_1B     Rent_1B_trim  Rent_1B_Lower  Rent_1B_Upper  \\\n",
       "0  Rs.24,225 - 31,025  24,225 - 31,025        24225.0        31025.0   \n",
       "1  Rs.16,371 - 20,464  16,371 - 20,464        16371.0        20464.0   \n",
       "2                 NaN              NaN            NaN            NaN   \n",
       "3                 NaN              NaN            NaN            NaN   \n",
       "4    Rs.5,142 - 6,078    5,142 - 6,078         5142.0         6078.0   \n",
       "\n",
       "   Rent_1B_avg Rent_1B_persqf             Rent_2B     Rent_2B_trim  \\\n",
       "0      27625.0           139%  Rs.43,350 - 48,450  43,350 - 48,450   \n",
       "1      18417.5           244%  Rs.21,216 - 23,338  21,216 - 23,338   \n",
       "2          NaN            NaN  Rs.63,954 - 68,395  63,954 - 68,395   \n",
       "3          NaN            NaN                 NaN              NaN   \n",
       "4       5610.0           111%    Rs.7,268 - 8,882    7,268 - 8,882   \n",
       "\n",
       "   Rent_2B_Lower  Rent_2B_Upper  Rent_2B_avg Rent_2B_persqf  \\\n",
       "0        43350.0        48450.0      45900.0           232%   \n",
       "1        21216.0        23338.0      22277.0           295%   \n",
       "2        63954.0        68395.0      66174.5           239%   \n",
       "3            NaN            NaN          NaN            NaN   \n",
       "4         7268.0         8882.0       8075.0           160%   \n",
       "\n",
       "              Rent_3B     Rent_3B_trim  Rent_3B_Lower  Rent_3B_Upper  \\\n",
       "0  Rs.53,780 - 59,755  53,780 - 59,755        53780.0        59755.0   \n",
       "1  Rs.23,899 - 29,330  23,899 - 29,330        23899.0        29330.0   \n",
       "2                 NaN              NaN            NaN            NaN   \n",
       "3                 NaN              NaN            NaN            NaN   \n",
       "4                 NaN              NaN            NaN            NaN   \n",
       "\n",
       "   Rent_3B_avg Rent_3B_persqf Longitude  \n",
       "0      56767.5           286%      None  \n",
       "1      26614.5           353%      None  \n",
       "2          NaN            NaN      None  \n",
       "3          NaN            NaN      None  \n",
       "4          NaN            NaN      None  "
      ]
     },
     "execution_count": 25,
     "metadata": {},
     "output_type": "execute_result"
    }
   ],
   "source": [
    "url=\"https://nominatim.openstreetmap.org/search/{}%20{}?format=json&addressdetails=1&limit=1&polygon_svg=1\".format(\"4 Bungalows\",\"Mumbai\")\n",
    "result=requests.get(url).json()\n",
    "pp_1['Longitude']=None\n",
    "pp_1.head()"
   ]
  },
  {
   "cell_type": "code",
   "execution_count": null,
   "metadata": {},
   "outputs": [],
   "source": [
    "\n",
    "for index, row in pp_1.iterrows():\n",
    "\n",
    "    locality=row['Locality Name']\n",
    "\n",
    "#initialize your variable to None \n",
    "\n",
    "\n",
    "#loop until you get the coordinates\n",
    "\n",
    "    #while(lat_lng_coords is None):\n",
    "    url=\"https://nominatim.openstreetmap.org/search/{}%20{}?format=json&addressdetails=1&limit=1&polygon_svg=1\".format(locality,\"Mumbai\")\n",
    "    result=requests.get(url).json()\n",
    "    if result!=[]:\n",
    "        pp_1.loc[index,'Latitude']=result[0]['lat']\n",
    "        pp_1.loc[index,'Longitude']=result[0]['lon']\n",
    "\n",
    "    else:\n",
    "        pp_1.loc[index,'Latitude']=None\n",
    "        pp_1.loc[index,'Longitude']=None\n",
    "\n",
    "        \n",
    "#Assign Latitude and longitude row['Latitude']= lat_lng_coords[0] row['Longitude'] = lat_lng_coords[1]\n"
   ]
  },
  {
   "cell_type": "code",
   "execution_count": null,
   "metadata": {},
   "outputs": [],
   "source": [
    "pp_1.head()"
   ]
  },
  {
   "cell_type": "code",
   "execution_count": null,
   "metadata": {},
   "outputs": [],
   "source": [
    "pp_1.to_csv(\"pp_latlong.csv\")"
   ]
  },
  {
   "cell_type": "code",
   "execution_count": null,
   "metadata": {},
   "outputs": [],
   "source": [
    "## importing from already saved csv file to save time and repeated API calls\n",
    "# Dropping the locality for which the coordinates are not being able to be fetched"
   ]
  },
  {
   "cell_type": "code",
   "execution_count": null,
   "metadata": {},
   "outputs": [],
   "source": []
  },
  {
   "cell_type": "code",
   "execution_count": null,
   "metadata": {},
   "outputs": [],
   "source": [
    "city_data=pd.read_csv(\"Data/pp_latlong.csv\")"
   ]
  },
  {
   "cell_type": "code",
   "execution_count": null,
   "metadata": {},
   "outputs": [],
   "source": [
    "city_data[['Locality Name','Latitude','Longitude']].dropna().drop_duplicates().head(10)"
   ]
  },
  {
   "cell_type": "code",
   "execution_count": null,
   "metadata": {},
   "outputs": [],
   "source": [
    "city_data.drop(['index'],axis=1,inplace=True)\n",
    "city_data.tail()\n",
    "city_data['Latitude'].dropna(inplace=True)\n",
    "city_data['Longitude'].dropna(inplace=True)\n",
    "print(city_data.shape)\n",
    "city_data.head()"
   ]
  },
  {
   "cell_type": "markdown",
   "metadata": {},
   "source": [
    "### Plotting data to check how much extent is covered by the extracted lat longs"
   ]
  },
  {
   "cell_type": "code",
   "execution_count": null,
   "metadata": {},
   "outputs": [],
   "source": [
    "##setting the mean latitude and longitude for the area under consideration"
   ]
  },
  {
   "cell_type": "code",
   "execution_count": null,
   "metadata": {},
   "outputs": [],
   "source": [
    "latitude =city_data.Latitude.mean()\n",
    "longitude =city_data.Longitude.mean()\n",
    "print(latitude,longitude)"
   ]
  },
  {
   "cell_type": "code",
   "execution_count": null,
   "metadata": {},
   "outputs": [],
   "source": [
    "# Plotting coordinates to check to what extent the area is covered by sample space"
   ]
  },
  {
   "cell_type": "code",
   "execution_count": null,
   "metadata": {},
   "outputs": [],
   "source": [
    "\n",
    "venues_map = folium.Map(location=[latitude, longitude], zoom_start=10) # generate map centred around center\n",
    "\n",
    "\n",
    "\n",
    "# add coordinates to the map as blue circle markers\n",
    "for lat, lng, label in zip(city_data.Latitude, city_data.Longitude, city_data['Locality Name']):\n",
    "    folium.features.CircleMarker(\n",
    "        [lat, lng],\n",
    "        radius=2,\n",
    "        popup=label,\n",
    "        fill=True,\n",
    "        color='blue',\n",
    "        fill_color='blue',\n",
    "        fill_opacity=0.7\n",
    "        ).add_to(venues_map)\n",
    "\n",
    "# saving map to html\n",
    "venues_map.save(outfile='plotcheck.html')"
   ]
  },
  {
   "cell_type": "code",
   "execution_count": null,
   "metadata": {},
   "outputs": [],
   "source": [
    "# creating easy to read labels for each coordinates with Locality rates and average property price"
   ]
  },
  {
   "cell_type": "code",
   "execution_count": null,
   "metadata": {},
   "outputs": [],
   "source": [
    "city_pp=city_data[['Locality Name','buy_rate_avg','Latitude','Longitude']]\n",
    "city_pp['price_label']=city_pp['Locality Name']+\" -Rs.\"+city_pp['buy_rate_avg'].astype(str)+\"/sq.ft\"\n",
    "city_pp.dropna(inplace=True)\n",
    "city_pp.head()"
   ]
  },
  {
   "cell_type": "code",
   "execution_count": null,
   "metadata": {},
   "outputs": [],
   "source": [
    "## grouping the data by latitude and longitude if in case there is some repeatation in the data"
   ]
  },
  {
   "cell_type": "code",
   "execution_count": null,
   "metadata": {},
   "outputs": [],
   "source": [
    "city_plot=city_pp[['Latitude','Longitude','buy_rate_avg']].groupby(['Latitude','Longitude'],as_index=False).mean()\n",
    "city_plot.head()"
   ]
  },
  {
   "cell_type": "code",
   "execution_count": null,
   "metadata": {},
   "outputs": [],
   "source": []
  },
  {
   "cell_type": "code",
   "execution_count": null,
   "metadata": {},
   "outputs": [],
   "source": [
    "## Checking the distribution of average price per square feet on a histogram\n",
    "\n",
    "x=sns.distplot(city_pp['buy_rate_avg'], label='rate per square feet', bins=50, norm_hist=True, axlabel='rate per sq.feet in Rs.')"
   ]
  },
  {
   "cell_type": "markdown",
   "metadata": {},
   "source": [
    "### clustering by price"
   ]
  },
  {
   "cell_type": "code",
   "execution_count": null,
   "metadata": {},
   "outputs": [],
   "source": [
    "##Generating Heatmap based on the price"
   ]
  },
  {
   "cell_type": "code",
   "execution_count": null,
   "metadata": {},
   "outputs": [],
   "source": [
    "from folium.plugins import HeatMap\n",
    "\n",
    "max_amount = float(city_plot['buy_rate_avg'].max())\n",
    "\n",
    "hmap = folium.Map(location=[latitude, longitude], zoom_start=11,)\n",
    "\n",
    "hm_wide = HeatMap( list(zip(city_plot.Latitude, city_plot.Longitude, city_plot['buy_rate_avg'])),\n",
    "                   min_opacity=0.5,\n",
    "                   max_val=45000,\n",
    "                   radius=10, \n",
    "                   blur=10,\n",
    "                   max_zoom=5, \n",
    "                 )\n",
    "\n",
    "hmap.add_child(hm_wide)\n",
    "for lat, lng, label in zip(city_pp.Latitude, city_pp.Longitude, city_pp['price_label']):\n",
    "    folium.features.CircleMarker(\n",
    "        [lat, lng],\n",
    "        radius=0.2,\n",
    "        popup=label,\n",
    "        fill=True,\n",
    "        color='blue',\n",
    "        fill_color='blue',\n",
    "        fill_opacity=0.01\n",
    "        ).add_to(hmap)\n",
    "hmap.save(outfile= \"price_heat_map.html\")"
   ]
  },
  {
   "cell_type": "code",
   "execution_count": null,
   "metadata": {},
   "outputs": [],
   "source": [
    "## Binning the property prices into bins so that they can be mapped as a cluster on geo-map"
   ]
  },
  {
   "cell_type": "code",
   "execution_count": null,
   "metadata": {},
   "outputs": [],
   "source": [
    "bins= np.linspace(min(city_pp[\"buy_rate_avg\"]),max(city_pp[\"buy_rate_avg\"]),10)\n",
    "group_names=range(1,10)\n",
    "city_pp['price_binned']=pd.cut(city_pp['buy_rate_avg'],bins,labels=group_names,include_lowest=True)"
   ]
  },
  {
   "cell_type": "code",
   "execution_count": null,
   "metadata": {},
   "outputs": [],
   "source": [
    "city_pp.sort_values('price_binned',inplace=True)\n",
    "city_pp.head()"
   ]
  },
  {
   "cell_type": "code",
   "execution_count": null,
   "metadata": {},
   "outputs": [],
   "source": [
    "## Genrating the map with the clustered prices color coded."
   ]
  },
  {
   "cell_type": "code",
   "execution_count": null,
   "metadata": {},
   "outputs": [],
   "source": [
    "map_clusters = folium.Map(location=[latitude, longitude], zoom_start=11, tiles='cartodbpositron')\n",
    "\n",
    "# set color scheme for the clusters\n",
    "x = np.arange(10)\n",
    "ys = [i + x + (i*x)**2 for i in range(10)]\n",
    "colors_array = cm.Reds(np.linspace(0, 1, len(ys)))\n",
    "rainbow = [colors.rgb2hex(i) for i in colors_array]\n",
    "\n",
    "# add markers to the map\n",
    "markers_colors = []\n",
    "for lat, lon, tag, cluster in zip(city_pp['Latitude'], city_pp['Longitude'], city_pp['price_label'],city_pp['price_binned']):\n",
    "    label = folium.Popup(str(tag), parse_html=True)\n",
    "    folium.CircleMarker(\n",
    "        [lat, lon],\n",
    "        radius=8,\n",
    "        blur=5,\n",
    "        popup=label,\n",
    "        color=rainbow[cluster-1],\n",
    "        fill=True,\n",
    "        fill_color=rainbow[cluster-1],\n",
    "        fill_opacity=1).add_to(map_clusters)\n",
    "\n",
    "map_clusters.save(outfile=\"price_cluster_map.html\")"
   ]
  },
  {
   "cell_type": "markdown",
   "metadata": {},
   "source": [
    "# Using four square apis to get venue details"
   ]
  },
  {
   "cell_type": "code",
   "execution_count": null,
   "metadata": {},
   "outputs": [],
   "source": [
    "CLIENT_ID=\"RFBWD0MXEMM3ESEHAPAJMAPGOA4GF5NBWA15BU1CYSRLLWSZ\"\n",
    "CLIENT_SECRET=\"M3LQZF1E0YG0EQJ0IUMDUFDQSGZN0RHNFXDH335O44CYPAIR\"\n",
    "VERSION='20180604'\n",
    "radius=1000\n",
    "LIMIT=100\n",
    "\n",
    "\n",
    "\n",
    "url = 'https://api.foursquare.com/v2/venues/explore?client_id={}&client_secret={}&ll={},{}&v={}&radius={}&limit={}'.format(CLIENT_ID, CLIENT_SECRET, latitude, longitude, VERSION, radius, LIMIT)\n",
    "url"
   ]
  },
  {
   "cell_type": "code",
   "execution_count": null,
   "metadata": {},
   "outputs": [],
   "source": [
    "results = requests.get(url).json()"
   ]
  },
  {
   "cell_type": "code",
   "execution_count": null,
   "metadata": {
    "scrolled": true
   },
   "outputs": [],
   "source": [
    "results"
   ]
  },
  {
   "cell_type": "code",
   "execution_count": null,
   "metadata": {
    "scrolled": true
   },
   "outputs": [],
   "source": [
    "items=results['response']['groups'][0]['items']\n",
    "items"
   ]
  },
  {
   "cell_type": "code",
   "execution_count": null,
   "metadata": {},
   "outputs": [],
   "source": [
    "def get_category_type(row):\n",
    "    try:\n",
    "        categories_list = row['categories']\n",
    "    except:\n",
    "        categories_list = row['venue.categories']\n",
    "        \n",
    "    if len(categories_list) == 0:\n",
    "        return None\n",
    "    else:\n",
    "        return categories_list[0]['name']"
   ]
  },
  {
   "cell_type": "code",
   "execution_count": null,
   "metadata": {},
   "outputs": [],
   "source": [
    "city_call=city_pp[['Locality Name','Latitude','Longitude']].drop_duplicates()\n",
    "city_call.shape"
   ]
  },
  {
   "cell_type": "code",
   "execution_count": null,
   "metadata": {},
   "outputs": [],
   "source": [
    "def getNearbyVenues(names, latitudes, longitudes, radius=3000, LIMIT=100):\n",
    "    \n",
    "    venues_list=[]\n",
    "    for name, lat, lng in zip(names, latitudes, longitudes):\n",
    "        print(name)\n",
    "            \n",
    "        # create the API request URL\n",
    "        url = 'https://api.foursquare.com/v2/venues/explore?&client_id={}&client_secret={}&v={}&ll={},{}&radius={}&limit={}'.format(\n",
    "            CLIENT_ID, \n",
    "            CLIENT_SECRET, \n",
    "            VERSION, \n",
    "            lat, \n",
    "            lng, \n",
    "            radius, \n",
    "            LIMIT)\n",
    "            \n",
    "        # make the GET request\n",
    "        results = requests.get(url).json()[\"response\"]['groups'][0]['items']\n",
    "        if results!=[]:\n",
    "        # return only relevant information for each nearby venue\n",
    "            venues_list.append([(\n",
    "                name, \n",
    "                lat, \n",
    "                lng, \n",
    "                v['venue']['name'], \n",
    "                v['venue']['location']['lat'], \n",
    "                v['venue']['location']['lng'],  \n",
    "                v['venue']['categories'][0]['name']) for v in results])\n",
    "\n",
    "    nearby_venues = pd.DataFrame([item for venue_list in venues_list for item in venue_list])\n",
    "    nearby_venues.columns = ['Neighborhood', \n",
    "                  'Neighborhood Latitude', \n",
    "                  'Neighborhood Longitude', \n",
    "                  'Venue', \n",
    "                  'Venue Latitude', \n",
    "                  'Venue Longitude', \n",
    "                  'Venue Category']\n",
    "    \n",
    "    return(nearby_venues)"
   ]
  },
  {
   "cell_type": "code",
   "execution_count": null,
   "metadata": {},
   "outputs": [],
   "source": [
    "Mumbai_venues = getNearbyVenues(names=city_call['Locality Name'],\n",
    "                                   latitudes=city_call['Latitude'],\n",
    "                                   longitudes=city_call['Longitude']\n",
    "                                  )"
   ]
  },
  {
   "cell_type": "code",
   "execution_count": null,
   "metadata": {},
   "outputs": [],
   "source": [
    "Mumbai_venues.head()"
   ]
  },
  {
   "cell_type": "code",
   "execution_count": null,
   "metadata": {},
   "outputs": [],
   "source": [
    "Mumbai_venues.to_csv(r\"Mumbai_venues.csv\")"
   ]
  },
  {
   "cell_type": "markdown",
   "metadata": {},
   "source": [
    "# Stored the venue details on git to do away with the need of calling the apis over and over again"
   ]
  },
  {
   "cell_type": "code",
   "execution_count": 23,
   "metadata": {},
   "outputs": [
    {
     "data": {
      "text/html": [
       "<div>\n",
       "<style scoped>\n",
       "    .dataframe tbody tr th:only-of-type {\n",
       "        vertical-align: middle;\n",
       "    }\n",
       "\n",
       "    .dataframe tbody tr th {\n",
       "        vertical-align: top;\n",
       "    }\n",
       "\n",
       "    .dataframe thead th {\n",
       "        text-align: right;\n",
       "    }\n",
       "</style>\n",
       "<table border=\"1\" class=\"dataframe\">\n",
       "  <thead>\n",
       "    <tr style=\"text-align: right;\">\n",
       "      <th></th>\n",
       "      <th>Unnamed: 0</th>\n",
       "      <th>Neighborhood</th>\n",
       "      <th>Neighborhood Latitude</th>\n",
       "      <th>Neighborhood Longitude</th>\n",
       "      <th>Venue</th>\n",
       "      <th>Venue Latitude</th>\n",
       "      <th>Venue Longitude</th>\n",
       "      <th>Venue Category</th>\n",
       "    </tr>\n",
       "  </thead>\n",
       "  <tbody>\n",
       "    <tr>\n",
       "      <th>0</th>\n",
       "      <td>0</td>\n",
       "      <td>Aarey Milk Colony</td>\n",
       "      <td>19.156129</td>\n",
       "      <td>72.870722</td>\n",
       "      <td>The Westin Mumbai Garden City</td>\n",
       "      <td>19.172654</td>\n",
       "      <td>72.860518</td>\n",
       "      <td>Hotel</td>\n",
       "    </tr>\n",
       "    <tr>\n",
       "      <th>1</th>\n",
       "      <td>1</td>\n",
       "      <td>Aarey Milk Colony</td>\n",
       "      <td>19.156129</td>\n",
       "      <td>72.870722</td>\n",
       "      <td>PVR Cinemas</td>\n",
       "      <td>19.174016</td>\n",
       "      <td>72.860485</td>\n",
       "      <td>Multiplex</td>\n",
       "    </tr>\n",
       "    <tr>\n",
       "      <th>2</th>\n",
       "      <td>2</td>\n",
       "      <td>Aarey Milk Colony</td>\n",
       "      <td>19.156129</td>\n",
       "      <td>72.870722</td>\n",
       "      <td>Film City</td>\n",
       "      <td>19.160960</td>\n",
       "      <td>72.886177</td>\n",
       "      <td>Event Space</td>\n",
       "    </tr>\n",
       "    <tr>\n",
       "      <th>3</th>\n",
       "      <td>3</td>\n",
       "      <td>Aarey Milk Colony</td>\n",
       "      <td>19.156129</td>\n",
       "      <td>72.870722</td>\n",
       "      <td>Starbucks</td>\n",
       "      <td>19.174177</td>\n",
       "      <td>72.860350</td>\n",
       "      <td>Coffee Shop</td>\n",
       "    </tr>\n",
       "    <tr>\n",
       "      <th>4</th>\n",
       "      <td>4</td>\n",
       "      <td>Aarey Milk Colony</td>\n",
       "      <td>19.156129</td>\n",
       "      <td>72.870722</td>\n",
       "      <td>British Brewing Company (BBC)</td>\n",
       "      <td>19.174186</td>\n",
       "      <td>72.860504</td>\n",
       "      <td>Brewery</td>\n",
       "    </tr>\n",
       "  </tbody>\n",
       "</table>\n",
       "</div>"
      ],
      "text/plain": [
       "   Unnamed: 0       Neighborhood  Neighborhood Latitude  \\\n",
       "0           0  Aarey Milk Colony              19.156129   \n",
       "1           1  Aarey Milk Colony              19.156129   \n",
       "2           2  Aarey Milk Colony              19.156129   \n",
       "3           3  Aarey Milk Colony              19.156129   \n",
       "4           4  Aarey Milk Colony              19.156129   \n",
       "\n",
       "   Neighborhood Longitude                          Venue  Venue Latitude  \\\n",
       "0               72.870722  The Westin Mumbai Garden City       19.172654   \n",
       "1               72.870722                    PVR Cinemas       19.174016   \n",
       "2               72.870722                      Film City       19.160960   \n",
       "3               72.870722                      Starbucks       19.174177   \n",
       "4               72.870722  British Brewing Company (BBC)       19.174186   \n",
       "\n",
       "   Venue Longitude Venue Category  \n",
       "0        72.860518          Hotel  \n",
       "1        72.860485      Multiplex  \n",
       "2        72.886177    Event Space  \n",
       "3        72.860350    Coffee Shop  \n",
       "4        72.860504        Brewery  "
      ]
     },
     "execution_count": 23,
     "metadata": {},
     "output_type": "execute_result"
    }
   ],
   "source": [
    "city_venues=pd.read_csv(\"https://raw.githubusercontent.com/girishtere/Applied-Data-Science-Capstone/master/Data/Mumbai_venues.csv\")\n",
    "city_venues.head()"
   ]
  },
  {
   "cell_type": "code",
   "execution_count": null,
   "metadata": {},
   "outputs": [],
   "source": [
    "venue_count= city_venues[['Neighborhood','Venue']].groupby('Neighborhood', as_index=False).count()\n",
    "venue_count.rename(columns={'Neighborhood':'Locality Name'},inplace=True)\n",
    "venue_count"
   ]
  },
  {
   "cell_type": "code",
   "execution_count": null,
   "metadata": {},
   "outputs": [],
   "source": [
    "## Checking the distribution of venues\n",
    "\n",
    "x=sns.distplot(venue_count['Venue'], label='number of venues', bins=50, norm_hist=True, axlabel='Distribution')"
   ]
  },
  {
   "cell_type": "code",
   "execution_count": null,
   "metadata": {
    "scrolled": true
   },
   "outputs": [],
   "source": [
    "venue_plot=pd.merge(venue_count,city_pp,on='Locality Name', how='left')\n",
    "venue_plot.drop(['price_label'],1,inplace=True)\n",
    "venue_plot.drop_duplicates(inplace=True)"
   ]
  },
  {
   "cell_type": "code",
   "execution_count": null,
   "metadata": {},
   "outputs": [],
   "source": [
    "from folium.plugins import HeatMap\n",
    "\n",
    "max_amount = float(venue_plot['Venue'].max())\n",
    "\n",
    "hmap = folium.Map(location=[latitude, longitude], zoom_start=11,)\n",
    "\n",
    "hm_wide = HeatMap( list(zip(venue_plot.Latitude, venue_plot.Longitude, venue_plot['Venue'])),\n",
    "                   min_opacity=0.5,\n",
    "                   max_val=max_amount,\n",
    "                   radius=7, \n",
    "                   blur=10,\n",
    "                   max_zoom=5, \n",
    "                 )\n",
    "\n",
    "hmap.add_child(hm_wide)\n",
    "for lat, lng, label in zip(venue_plot.Latitude, venue_plot.Longitude, venue_plot['Locality Name']):\n",
    "    folium.features.CircleMarker(\n",
    "        [lat, lng],\n",
    "        radius=0.2,\n",
    "        popup=label,\n",
    "        fill=True,\n",
    "        color='blue',\n",
    "        fill_color='blue',\n",
    "        fill_opacity=0.01\n",
    "        ).add_to(hmap)\n",
    "hmap.save(outfile= \"venue_heat_map.html\")"
   ]
  }
 ],
 "metadata": {
  "kernelspec": {
   "display_name": "Python 3",
   "language": "python",
   "name": "python3"
  },
  "language_info": {
   "codemirror_mode": {
    "name": "ipython",
    "version": 3
   },
   "file_extension": ".py",
   "mimetype": "text/x-python",
   "name": "python",
   "nbconvert_exporter": "python",
   "pygments_lexer": "ipython3",
   "version": "3.7.3"
  }
 },
 "nbformat": 4,
 "nbformat_minor": 2
}
